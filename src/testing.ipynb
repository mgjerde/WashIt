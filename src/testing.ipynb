{
 "cells": [
  {
   "cell_type": "code",
   "execution_count": 18,
   "metadata": {},
   "outputs": [
    {
     "name": "stdout",
     "output_type": "stream",
     "text": [
      "True\n",
      "2022-05-01 20:33:48.211839\n",
      "2022-05-01 20:53:48.211839\n"
     ]
    }
   ],
   "source": [
    "from datetime import datetime, timedelta\n",
    "\n",
    "now = datetime.now()\n",
    "later = now + timedelta(minutes = 20 )\n",
    "between = now + timedelta(minutes = 10)\n",
    "\n",
    "print (now < between < later)\n",
    "\n",
    "\n",
    "print(now)\n",
    "print(later)"
   ]
  },
  {
   "cell_type": "code",
   "execution_count": 20,
   "metadata": {},
   "outputs": [
    {
     "name": "stdout",
     "output_type": "stream",
     "text": [
      "Difference:  36 days, 10:04:20\n",
      "Total difference in minutes:  52444.333333333336\n",
      "Difference in minutes:  604.3333333333334\n"
     ]
    }
   ],
   "source": [
    "import datetime\n",
    "  \n",
    "# datetime(year, month, day, hour, minute, second)\n",
    "a = datetime.datetime(2017, 6, 21, 18, 25, 30)\n",
    "b = datetime.datetime(2017, 5, 16, 8, 21, 10)\n",
    "  \n",
    "# returns a timedelta object\n",
    "c = a-b \n",
    "print('Difference: ', c)\n",
    "  \n",
    "minutes = c.total_seconds() / 60\n",
    "print('Total difference in minutes: ', minutes)\n",
    "  \n",
    "# returns the difference of the time of the day\n",
    "minutes = c.seconds / 60\n",
    "print('Difference in minutes: ', minutes)"
   ]
  },
  {
   "cell_type": "code",
   "execution_count": 23,
   "metadata": {},
   "outputs": [
    {
     "name": "stdout",
     "output_type": "stream",
     "text": [
      "90\n"
     ]
    }
   ],
   "source": [
    "programs = [(\"Kokvask\",60,90),(\"Tøyvask\",40,60),(\"Håndvask\",30,20)]\n",
    "print(programs[0][2])"
   ]
  },
  {
   "cell_type": "code",
   "execution_count": 4,
   "metadata": {},
   "outputs": [
    {
     "ename": "TypeError",
     "evalue": "'>' not supported between instances of 'NoneType' and 'datetime.datetime'",
     "output_type": "error",
     "traceback": [
      "\u001b[1;31m---------------------------------------------------------------------------\u001b[0m",
      "\u001b[1;31mTypeError\u001b[0m                                 Traceback (most recent call last)",
      "\u001b[1;32m~\\AppData\\Local\\Temp/ipykernel_61572/2113360016.py\u001b[0m in \u001b[0;36m<module>\u001b[1;34m\u001b[0m\n\u001b[0;32m      3\u001b[0m \u001b[1;32mif\u001b[0m \u001b[0ma\u001b[0m\u001b[1;33m:\u001b[0m\u001b[1;33m\u001b[0m\u001b[1;33m\u001b[0m\u001b[0m\n\u001b[0;32m      4\u001b[0m     \u001b[0mprint\u001b[0m\u001b[1;33m(\u001b[0m\u001b[1;34m\"hei\"\u001b[0m\u001b[1;33m)\u001b[0m\u001b[1;33m\u001b[0m\u001b[1;33m\u001b[0m\u001b[0m\n\u001b[1;32m----> 5\u001b[1;33m \u001b[0ma\u001b[0m \u001b[1;33m>\u001b[0m \u001b[0mdt\u001b[0m\u001b[1;33m.\u001b[0m\u001b[0mdatetime\u001b[0m\u001b[1;33m.\u001b[0m\u001b[0mnow\u001b[0m\u001b[1;33m(\u001b[0m\u001b[1;33m)\u001b[0m\u001b[1;33m\u001b[0m\u001b[1;33m\u001b[0m\u001b[0m\n\u001b[0m",
      "\u001b[1;31mTypeError\u001b[0m: '>' not supported between instances of 'NoneType' and 'datetime.datetime'"
     ]
    }
   ],
   "source": [
    "import datetime as dt\n",
    "a = None\n",
    "if a:\n",
    "    print(\"hei\")\n",
    "a > dt.datetime.now()"
   ]
  },
  {
   "cell_type": "code",
   "execution_count": 6,
   "metadata": {},
   "outputs": [
    {
     "name": "stdout",
     "output_type": "stream",
     "text": [
      "[3, 3, 2, 1, 5, 4]\n"
     ]
    }
   ],
   "source": [
    "import random\n",
    "\n",
    "\n",
    "aa = 1\n",
    "ab = 2\n",
    "ac = 3\n",
    "ad = 3\n",
    "ae = 4\n",
    "af = 5\n",
    "mylist = [aa,ab,ac,ad,ae,af]\n",
    "random.shuffle(mylist)\n",
    "print (mylist)"
   ]
  },
  {
   "cell_type": "code",
   "execution_count": 16,
   "metadata": {},
   "outputs": [
    {
     "data": {
      "text/plain": [
       "[(datetime.datetime(2022, 5, 3, 23, 58, 15, 295263),\n",
       "  datetime.datetime(2022, 5, 3, 23, 59, 15, 295263)),\n",
       " (datetime.datetime(2022, 5, 4, 0, 25, 15, 295263),\n",
       "  datetime.datetime(2022, 5, 4, 0, 26, 15, 295263))]"
      ]
     },
     "execution_count": 16,
     "metadata": {},
     "output_type": "execute_result"
    }
   ],
   "source": [
    "a = []\n",
    "a.append(((dt.datetime.now()+dt.timedelta(minutes=50)),(dt.datetime.now()+dt.timedelta(minutes=51))))\n",
    "a.append(((dt.datetime.now()+dt.timedelta(minutes=23)),(dt.datetime.now()+dt.timedelta(minutes=24))))\n",
    "\n",
    "a.sort()\n",
    "a"
   ]
  },
  {
   "cell_type": "code",
   "execution_count": 17,
   "metadata": {},
   "outputs": [
    {
     "name": "stdout",
     "output_type": "stream",
     "text": [
      "None\n"
     ]
    }
   ],
   "source": [
    "print(None)"
   ]
  },
  {
   "cell_type": "code",
   "execution_count": 20,
   "metadata": {},
   "outputs": [
    {
     "data": {
      "text/plain": [
       "'1'"
      ]
     },
     "execution_count": 20,
     "metadata": {},
     "output_type": "execute_result"
    }
   ],
   "source": [
    "a = input(\"42\")\n",
    "a\n",
    "\n"
   ]
  },
  {
   "cell_type": "code",
   "execution_count": 3,
   "metadata": {},
   "outputs": [
    {
     "data": {
      "text/plain": [
       "0"
      ]
     },
     "execution_count": 3,
     "metadata": {},
     "output_type": "execute_result"
    }
   ],
   "source": [
    "currentUser = \"\"\n",
    "len(currentUser)"
   ]
  },
  {
   "cell_type": "code",
   "execution_count": 6,
   "metadata": {},
   "outputs": [
    {
     "name": "stdout",
     "output_type": "stream",
     "text": [
      "login: True\n",
      "login: False\n"
     ]
    }
   ],
   "source": [
    "login = \"\"\n",
    "print(\"login:\",len(login)<=0)\n",
    "while len(login) < 1:\n",
    "    login = input(\"Logg inn med identifikasjon: \")\n",
    "    print(\"login:\",len(login)<1)\n"
   ]
  },
  {
   "cell_type": "code",
   "execution_count": null,
   "metadata": {},
   "outputs": [],
   "source": []
  }
 ],
 "metadata": {
  "interpreter": {
   "hash": "b3ba2566441a7c06988d0923437866b63cedc61552a5af99d1f4fb67d367b25f"
  },
  "kernelspec": {
   "display_name": "Python 3.9.7 ('base')",
   "language": "python",
   "name": "python3"
  },
  "language_info": {
   "codemirror_mode": {
    "name": "ipython",
    "version": 3
   },
   "file_extension": ".py",
   "mimetype": "text/x-python",
   "name": "python",
   "nbconvert_exporter": "python",
   "pygments_lexer": "ipython3",
   "version": "3.9.7"
  },
  "orig_nbformat": 4
 },
 "nbformat": 4,
 "nbformat_minor": 2
}
